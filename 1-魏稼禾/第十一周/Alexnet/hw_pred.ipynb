{
 "cells": [
  {
   "cell_type": "code",
   "execution_count": null,
   "metadata": {},
   "outputs": [
    {
     "name": "stdout",
     "output_type": "stream",
     "text": [
      "WARNING:tensorflow:6 out of the last 6 calls to <function Model.make_predict_function.<locals>.predict_function at 0x000001C64A8D5B80> triggered tf.function retracing. Tracing is expensive and the excessive number of tracings could be due to (1) creating @tf.function repeatedly in a loop, (2) passing tensors with different shapes, (3) passing Python objects instead of tensors. For (1), please define your @tf.function outside of the loop. For (2), @tf.function has experimental_relax_shapes=True option that relaxes argument shapes that can avoid unnecessary retracing. For (3), please refer to https://www.tensorflow.org/tutorials/customization/performance#python_or_tensor_args and https://www.tensorflow.org/api_docs/python/tf/function for  more details.\n",
      "狗\n"
     ]
    }
   ],
   "source": [
    "from model.hw_AlexNet import alexNet\n",
    "import cv2\n",
    "import numpy as np\n",
    "\n",
    "if __name__ == \"__main__\":\n",
    "    schema = {}\n",
    "    with open(\"data/model/index_word.txt\", encoding=\"utf8\") as f:\n",
    "        for line in f:\n",
    "            line = line.strip()\n",
    "            schema[int(line.split(\";\")[0])] = line.split(\";\")[1]\n",
    "    # print(schema.items())\n",
    "\n",
    "    img_o = cv2.imread(\"test3.jpg\")\n",
    "    img = cv2.cvtColor(img_o, cv2.COLOR_BGR2RGB)\n",
    "    img = img / 255.0\n",
    "    img = cv2.resize(img, (224, 224))\n",
    "    img = np.expand_dims(img, axis=0)\n",
    "\n",
    "\n",
    "    model = alexNet()\n",
    "    model.load_weights(\"logs/last1.h5\")\n",
    "    print(schema[np.argmax(model.predict(img))])\n",
    "\n",
    "    cv2.imshow(\"xx\", img_o)\n",
    "    cv2.waitKey(0)\n",
    "    cv2.destroyAllWindows()"
   ]
  },
  {
   "cell_type": "code",
   "execution_count": null,
   "metadata": {},
   "outputs": [],
   "source": []
  }
 ],
 "metadata": {
  "kernelspec": {
   "display_name": "AILesson",
   "language": "python",
   "name": "python3"
  },
  "language_info": {
   "codemirror_mode": {
    "name": "ipython",
    "version": 3
   },
   "file_extension": ".py",
   "mimetype": "text/x-python",
   "name": "python",
   "nbconvert_exporter": "python",
   "pygments_lexer": "ipython3",
   "version": "3.8.19"
  }
 },
 "nbformat": 4,
 "nbformat_minor": 2
}
